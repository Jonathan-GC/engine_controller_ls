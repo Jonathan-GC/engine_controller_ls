{
 "cells": [
  {
   "cell_type": "markdown",
   "metadata": {},
   "source": [
    "# numpy \n",
    "\n",
    "\n",
    "Propicio para matematicas matrical\n",
    "\n",
    "1. se llaman tensores de gfrado uno a los que son un vector horizontal o vertical de una dimensión\n",
    "\n",
    "2. Tensores de grado 2, doble dimencion Alto y ancho\n",
    "\n",
    "3. Tensores de grado 3, tres dimensiones"
   ]
  },
  {
   "cell_type": "code",
   "execution_count": 1,
   "metadata": {},
   "outputs": [],
   "source": [
    "import numpy as np\n"
   ]
  },
  {
   "cell_type": "markdown",
   "metadata": {},
   "source": [
    "## Creacion de un arreglo\n",
    "\n",
    "### Vectores 1 dimension"
   ]
  },
  {
   "cell_type": "code",
   "execution_count": 2,
   "metadata": {},
   "outputs": [
    {
     "name": "stdout",
     "output_type": "stream",
     "text": [
      "[ 5 27  2]\n",
      "[6.2 5.3 8.4 9.2]\n",
      "<class 'numpy.ndarray'>\n",
      "<class 'numpy.ndarray'>\n"
     ]
    }
   ],
   "source": [
    "a = np.array([5, 27, 2])\n",
    "b = np.array([6.2, 5.3, 8.4, 9.2])\n",
    "\n",
    "print(a)\n",
    "print(b)\n",
    "\n",
    "#Los tipos son array ndimensionales\n",
    "print(type(a))\n",
    "print(type(b))\n",
    "\n"
   ]
  },
  {
   "cell_type": "markdown",
   "metadata": {},
   "source": [
    "### Vector de 2 dimensiones\n"
   ]
  },
  {
   "cell_type": "code",
   "execution_count": 3,
   "metadata": {},
   "outputs": [
    {
     "name": "stdout",
     "output_type": "stream",
     "text": [
      "[[2.  3.  6. ]\n",
      " [4.  3.  6. ]\n",
      " [4.5 2.3 8.2]]\n"
     ]
    }
   ],
   "source": [
    "D = np.array([[2, 3, 6], [4, 3, 6], [4.5, 2.3, 8.2]])\n",
    "\n",
    "print(D)"
   ]
  },
  {
   "cell_type": "markdown",
   "metadata": {},
   "source": [
    "## Atributos de un Arreglo\n",
    "\n",
    "### Atributo _dtype_\n",
    "El arreglo entero es de 64 bits es decir que cada celda esta almacenada en memoria con 64 bits de tamaño"
   ]
  },
  {
   "cell_type": "code",
   "execution_count": 4,
   "metadata": {
    "tags": []
   },
   "outputs": [
    {
     "data": {
      "text/plain": [
       "dtype('float64')"
      ]
     },
     "execution_count": 4,
     "metadata": {},
     "output_type": "execute_result"
    }
   ],
   "source": [
    "D.dtype"
   ]
  },
  {
   "cell_type": "markdown",
   "metadata": {},
   "source": [
    "### Atributo _ndim_\n",
    "\n",
    "Indica las dimenciones del arreglo\n"
   ]
  },
  {
   "cell_type": "code",
   "execution_count": 5,
   "metadata": {},
   "outputs": [
    {
     "data": {
      "text/plain": [
       "2"
      ]
     },
     "execution_count": 5,
     "metadata": {},
     "output_type": "execute_result"
    }
   ],
   "source": [
    "# El arreglo D es de dos dimensiones\n",
    "\n",
    "D.ndim"
   ]
  },
  {
   "cell_type": "markdown",
   "metadata": {},
   "source": [
    "### Atributo _shape_\n",
    "\n",
    "Devuelve una tupla que Indica el tamaño arreglo"
   ]
  },
  {
   "cell_type": "code",
   "execution_count": 6,
   "metadata": {},
   "outputs": [
    {
     "data": {
      "text/plain": [
       "(3, 3)"
      ]
     },
     "execution_count": 6,
     "metadata": {},
     "output_type": "execute_result"
    }
   ],
   "source": [
    "D.shape"
   ]
  },
  {
   "cell_type": "markdown",
   "metadata": {},
   "source": [
    "### Atributo _size_\n",
    "\n",
    "Devuelve el valor total de elemntos en una matriz ejemplo 2*3=6"
   ]
  },
  {
   "cell_type": "code",
   "execution_count": 7,
   "metadata": {},
   "outputs": [
    {
     "data": {
      "text/plain": [
       "9"
      ]
     },
     "execution_count": 7,
     "metadata": {},
     "output_type": "execute_result"
    }
   ],
   "source": [
    "D.size"
   ]
  },
  {
   "cell_type": "markdown",
   "metadata": {},
   "source": [
    "# Funciones para la creacion de ARREGLOS\n",
    "\n",
    "## _Zeros_, _ones_, _full_"
   ]
  },
  {
   "cell_type": "code",
   "execution_count": 8,
   "metadata": {},
   "outputs": [
    {
     "data": {
      "text/plain": [
       "array([[[0., 0., 0.],\n",
       "        [0., 0., 0.]],\n",
       "\n",
       "       [[0., 0., 0.],\n",
       "        [0., 0., 0.]],\n",
       "\n",
       "       [[0., 0., 0.],\n",
       "        [0., 0., 0.]],\n",
       "\n",
       "       [[0., 0., 0.],\n",
       "        [0., 0., 0.]]])"
      ]
     },
     "execution_count": 8,
     "metadata": {},
     "output_type": "execute_result"
    }
   ],
   "source": [
    "a = np.zeros((4, 2, 3))\n",
    "a"
   ]
  },
  {
   "cell_type": "code",
   "execution_count": 9,
   "metadata": {},
   "outputs": [
    {
     "data": {
      "text/plain": [
       "array([[[1., 1., 1.],\n",
       "        [1., 1., 1.]],\n",
       "\n",
       "       [[1., 1., 1.],\n",
       "        [1., 1., 1.]],\n",
       "\n",
       "       [[1., 1., 1.],\n",
       "        [1., 1., 1.]],\n",
       "\n",
       "       [[1., 1., 1.],\n",
       "        [1., 1., 1.]]])"
      ]
     },
     "execution_count": 9,
     "metadata": {},
     "output_type": "execute_result"
    }
   ],
   "source": [
    "b = np.ones((4, 2, 3))\n",
    "b"
   ]
  },
  {
   "cell_type": "code",
   "execution_count": 10,
   "metadata": {},
   "outputs": [
    {
     "data": {
      "text/plain": [
       "array([[[7, 7, 7],\n",
       "        [7, 7, 7]],\n",
       "\n",
       "       [[7, 7, 7],\n",
       "        [7, 7, 7]],\n",
       "\n",
       "       [[7, 7, 7],\n",
       "        [7, 7, 7]],\n",
       "\n",
       "       [[7, 7, 7],\n",
       "        [7, 7, 7]]])"
      ]
     },
     "execution_count": 10,
     "metadata": {},
     "output_type": "execute_result"
    }
   ],
   "source": [
    "c = np.full((4, 2, 3), 7)\n",
    "c"
   ]
  },
  {
   "cell_type": "code",
   "execution_count": 14,
   "metadata": {},
   "outputs": [
    {
     "name": "stdout",
     "output_type": "stream",
     "text": [
      "[1. 1. 1. 1. 1. 1. 1.]\n",
      "Dimensiones del arreglo 1\n",
      "Tipo de datos arreglo float64\n"
     ]
    }
   ],
   "source": [
    "D = np.ones(7, dtype=float)\n",
    "print(D)\n",
    "\n",
    "print(f\"Dimensiones del arreglo {D.ndim}\")  \n",
    "print(f\"Tipo de datos arreglo {D.dtype}\") "
   ]
  },
  {
   "cell_type": "markdown",
   "metadata": {},
   "source": [
    "## Creacion de Areglos \n",
    "\n",
    "### arange + reshape"
   ]
  },
  {
   "cell_type": "code",
   "execution_count": 17,
   "metadata": {},
   "outputs": [
    {
     "name": "stdout",
     "output_type": "stream",
     "text": [
      "[0 1 2 3 4 5 6 7 8 9]\n",
      "[-10  -9  -8  -7  -6  -5  -4  -3  -2  -1   0   1   2   3   4   5   6   7\n",
      "   8   9]\n",
      "[3 5 7 9]\n"
     ]
    }
   ],
   "source": [
    "A = np.arange(10)\n",
    "print(A)\n",
    "\n",
    "C = np.arange(-10, 10)\n",
    "print(C)\n",
    "\n",
    "B = np.arange(3, 10, 2)\n",
    "print(B)"
   ]
  },
  {
   "cell_type": "markdown",
   "metadata": {},
   "source": [
    "reshape permite  convertir el arreglo en 2 dimensiones o mas dimensiones segun\n"
   ]
  },
  {
   "cell_type": "code",
   "execution_count": 18,
   "metadata": {},
   "outputs": [
    {
     "name": "stdout",
     "output_type": "stream",
     "text": [
      "[  2   4   6   8  10  12  14  16  18  20  22  24  26  28  30  32  34  36\n",
      "  38  40  42  44  46  48  50  52  54  56  58  60  62  64  66  68  70  72\n",
      "  74  76  78  80  82  84  86  88  90  92  94  96  98 100]\n",
      "[[  2   4   6   8  10  12  14  16  18  20]\n",
      " [ 22  24  26  28  30  32  34  36  38  40]\n",
      " [ 42  44  46  48  50  52  54  56  58  60]\n",
      " [ 62  64  66  68  70  72  74  76  78  80]\n",
      " [ 82  84  86  88  90  92  94  96  98 100]]\n"
     ]
    }
   ],
   "source": [
    "D = np.arange(2, 101, 2)\n",
    "F = D.reshape((5, 10))\n",
    "\n",
    "print(D)\n",
    "print(F)"
   ]
  },
  {
   "cell_type": "markdown",
   "metadata": {},
   "source": [
    "Mismo resultado anterior pero en una sola linea de codigo"
   ]
  },
  {
   "cell_type": "code",
   "execution_count": 19,
   "metadata": {},
   "outputs": [
    {
     "name": "stdout",
     "output_type": "stream",
     "text": [
      "[[  2   4   6   8  10  12  14  16  18  20]\n",
      " [ 22  24  26  28  30  32  34  36  38  40]\n",
      " [ 42  44  46  48  50  52  54  56  58  60]\n",
      " [ 62  64  66  68  70  72  74  76  78  80]\n",
      " [ 82  84  86  88  90  92  94  96  98 100]]\n"
     ]
    }
   ],
   "source": [
    "G = np.arange(2, 101, 2).reshape((5, 10))\n",
    "print(G)"
   ]
  },
  {
   "cell_type": "markdown",
   "metadata": {},
   "source": [
    "### Funcion _linespace_\n",
    "\n",
    "Crea un var dentro de un rango, pero lo divide en las partes que uno desee. donde el primer valor sera el minimo del rango y el ultimop valor el ultimo designado."
   ]
  },
  {
   "cell_type": "code",
   "execution_count": 22,
   "metadata": {},
   "outputs": [
    {
     "name": "stdout",
     "output_type": "stream",
     "text": [
      "[ 0.          0.1010101   0.2020202   0.3030303   0.4040404   0.50505051\n",
      "  0.60606061  0.70707071  0.80808081  0.90909091  1.01010101  1.11111111\n",
      "  1.21212121  1.31313131  1.41414141  1.51515152  1.61616162  1.71717172\n",
      "  1.81818182  1.91919192  2.02020202  2.12121212  2.22222222  2.32323232\n",
      "  2.42424242  2.52525253  2.62626263  2.72727273  2.82828283  2.92929293\n",
      "  3.03030303  3.13131313  3.23232323  3.33333333  3.43434343  3.53535354\n",
      "  3.63636364  3.73737374  3.83838384  3.93939394  4.04040404  4.14141414\n",
      "  4.24242424  4.34343434  4.44444444  4.54545455  4.64646465  4.74747475\n",
      "  4.84848485  4.94949495  5.05050505  5.15151515  5.25252525  5.35353535\n",
      "  5.45454545  5.55555556  5.65656566  5.75757576  5.85858586  5.95959596\n",
      "  6.06060606  6.16161616  6.26262626  6.36363636  6.46464646  6.56565657\n",
      "  6.66666667  6.76767677  6.86868687  6.96969697  7.07070707  7.17171717\n",
      "  7.27272727  7.37373737  7.47474747  7.57575758  7.67676768  7.77777778\n",
      "  7.87878788  7.97979798  8.08080808  8.18181818  8.28282828  8.38383838\n",
      "  8.48484848  8.58585859  8.68686869  8.78787879  8.88888889  8.98989899\n",
      "  9.09090909  9.19191919  9.29292929  9.39393939  9.49494949  9.5959596\n",
      "  9.6969697   9.7979798   9.8989899  10.        ]\n"
     ]
    }
   ],
   "source": [
    "H = np.linspace(0, 10, 100)\n",
    "print(H)"
   ]
  },
  {
   "cell_type": "code",
   "execution_count": 1,
   "metadata": {},
   "outputs": [
    {
     "ename": "NameError",
     "evalue": "name 'H' is not defined",
     "output_type": "error",
     "traceback": [
      "\u001b[1;31m---------------------------------------------------------------------------\u001b[0m",
      "\u001b[1;31mNameError\u001b[0m                                 Traceback (most recent call last)",
      "\u001b[1;32mc:\\Users\\Usuario\\Downloads\\engine_controller_ls\\numpy_reinforces.ipynb Cell 28\u001b[0m line \u001b[0;36m3\n\u001b[0;32m      <a href='vscode-notebook-cell:/c%3A/Users/Usuario/Downloads/engine_controller_ls/numpy_reinforces.ipynb#X36sZmlsZQ%3D%3D?line=0'>1</a>\u001b[0m \u001b[39m#mEJORARLO CON RESHAPE\u001b[39;00m\n\u001b[1;32m----> <a href='vscode-notebook-cell:/c%3A/Users/Usuario/Downloads/engine_controller_ls/numpy_reinforces.ipynb#X36sZmlsZQ%3D%3D?line=2'>3</a>\u001b[0m I \u001b[39m=\u001b[39m H\u001b[39m.\u001b[39mreshape((\u001b[39m20\u001b[39m, \u001b[39m5\u001b[39m))\n\u001b[0;32m      <a href='vscode-notebook-cell:/c%3A/Users/Usuario/Downloads/engine_controller_ls/numpy_reinforces.ipynb#X36sZmlsZQ%3D%3D?line=3'>4</a>\u001b[0m \u001b[39mprint\u001b[39m(I)\n",
      "\u001b[1;31mNameError\u001b[0m: name 'H' is not defined"
     ]
    }
   ],
   "source": [
    "#mEJORARLO CON RESHAPE\n",
    "\n",
    "I = H.reshape((20, 5))\n",
    "print(I)"
   ]
  },
  {
   "cell_type": "markdown",
   "metadata": {},
   "source": [
    "# Listas vs numpy\n",
    "\n",
    "Comparaciones"
   ]
  },
  {
   "cell_type": "code",
   "execution_count": 5,
   "metadata": {},
   "outputs": [
    {
     "name": "stdout",
     "output_type": "stream",
     "text": [
      "--------------------------------------------------\n",
      "N = 10:\n",
      "    Tiempo de computo promedio en python: 6.719999964843737e-08 segundos\n",
      "    Tiempo de computo promedio en Numpy: 1.3823999997839565e-06 segundos\n",
      "   Numpy es 0.0 veces más rápido\n",
      "--------------------------------------------------\n",
      "N = 100:\n",
      "    Tiempo de computo promedio en python: 4.013000002487388e-07 segundos\n",
      "    Tiempo de computo promedio en Numpy: 1.0912000002463174e-06 segundos\n",
      "   Numpy es 0.4 veces más rápido\n",
      "--------------------------------------------------\n",
      "N = 1000:\n",
      "    Tiempo de computo promedio en python: 2.920700000231591e-06 segundos\n",
      "    Tiempo de computo promedio en Numpy: 1.9300999997540203e-06 segundos\n",
      "   Numpy es 1.5 veces más rápido\n",
      "--------------------------------------------------\n",
      "N = 10000:\n",
      "    Tiempo de computo promedio en python: 2.9641500000252562e-05 segundos\n",
      "    Tiempo de computo promedio en Numpy: 2.589499999885447e-06 segundos\n",
      "   Numpy es 11.4 veces más rápido\n",
      "--------------------------------------------------\n",
      "N = 100000:\n",
      "    Tiempo de computo promedio en python: 0.0007264296000003014 segundos\n",
      "    Tiempo de computo promedio en Numpy: 1.5781000000060885e-05 segundos\n",
      "   Numpy es 46.0 veces más rápido\n",
      "--------------------------------------------------\n",
      "N = 1000000:\n",
      "    Tiempo de computo promedio en python: 0.014546750599999997 segundos\n",
      "    Tiempo de computo promedio en Numpy: 0.00013654670000005353 segundos\n",
      "   Numpy es 106.5 veces más rápido\n"
     ]
    }
   ],
   "source": [
    "import numpy as np\n",
    "import timeit\n",
    "\n",
    "#Creearemos arreglos de 10, 100, 1000, 10000, 10000000\n",
    "#Calculamos el tiempo de cada uno\n",
    "\n",
    "N = [10, 10**2, 10**3, 10**4, 10**5, 10**6]\n",
    "\n",
    "for i in N:\n",
    "    #Generar los arreglos python y numpy\n",
    "    x_python = list(range(i))\n",
    "    x_numpy = np.arange(i)\n",
    "\n",
    "    # Calcular el tiempo de computo pronmedio para python y alamacenarlo\n",
    "    t_python = timeit.timeit(\"sum(x_python)\", \"from __main__ import x_python\", number=1000)/1000\n",
    "\n",
    "    # Calcular el tiempo de computo pronmedio para python y alamacenarlo\n",
    "    t_numpy = timeit.timeit(\"x_numpy.sum()\", \"from __main__ import x_numpy\", number=1000)/1000\n",
    "\n",
    "\n",
    "    #Imprimir informacion\n",
    "    print(\"-\" * 50)\n",
    "\n",
    "    print(f\"N = {i}:\")\n",
    "    print(f\"    Tiempo de computo promedio en python: {t_python} segundos\")\n",
    "    print(f\"    Tiempo de computo promedio en Numpy: {t_numpy} segundos\")\n",
    "    print(f\"   Numpy es {t_python/t_numpy:.1f} veces más rápido\")\n",
    "\n",
    "\n"
   ]
  },
  {
   "cell_type": "markdown",
   "metadata": {},
   "source": [
    "# Operadores de Arreglos\n",
    "\n",
    "Los operadores de numpyh permiten realizar operaciones sencillas sobre *cada uno de los elementos de un arreglos*\n",
    "\n",
    "#### Operadores principales"
   ]
  },
  {
   "cell_type": "markdown",
   "metadata": {},
   "source": [
    "##### Operaciones aritmeticas con escalares\n",
    "\n",
    "Son operaciones como suma, resta, multipliucacion y expónenciacion, para realizar opercacxiones entre un areglo y un escalar"
   ]
  },
  {
   "cell_type": "code",
   "execution_count": 7,
   "metadata": {},
   "outputs": [
    {
     "name": "stdout",
     "output_type": "stream",
     "text": [
      "[ 5  6  7  8  9 10 11 12 13 14]\n"
     ]
    }
   ],
   "source": [
    "import numpy as np\n",
    "\n",
    "arreglo = np.arange(5, 15)\n",
    "print(arreglo)"
   ]
  },
  {
   "cell_type": "code",
   "execution_count": 8,
   "metadata": {},
   "outputs": [
    {
     "name": "stdout",
     "output_type": "stream",
     "text": [
      "[ 7  8  9 10 11 12 13 14 15 16]\n"
     ]
    }
   ],
   "source": [
    "# 1. Sumar o restare la misma cantidad a cada elemento del arreglo\n",
    "print(arreglo + 2)"
   ]
  },
  {
   "cell_type": "code",
   "execution_count": 9,
   "metadata": {},
   "outputs": [
    {
     "name": "stdout",
     "output_type": "stream",
     "text": [
      "[ 7  8  9 10 11 12 13 14 15 16]\n"
     ]
    }
   ],
   "source": [
    "# 2. Tambien se puede usar el modificador += pero en este caso la variable original resulta afectada\n",
    "arreglo += 2\n",
    "print(arreglo)"
   ]
  },
  {
   "cell_type": "code",
   "execution_count": 11,
   "metadata": {},
   "outputs": [
    {
     "data": {
      "text/plain": [
       "array([3.5, 4. , 4.5, 5. , 5.5, 6. , 6.5, 7. , 7.5, 8. ])"
      ]
     },
     "execution_count": 11,
     "metadata": {},
     "output_type": "execute_result"
    }
   ],
   "source": [
    "# 3. Multiplicacion de cada elemento \n",
    "\n",
    "0.5 * arreglo\n",
    "\n"
   ]
  },
  {
   "cell_type": "code",
   "execution_count": 19,
   "metadata": {},
   "outputs": [
    {
     "data": {
      "text/plain": [
       "array([2.64575131, 2.82842712, 3.        , 3.16227766, 3.31662479,\n",
       "       3.46410162, 3.60555128, 3.74165739, 3.87298335, 4.        ])"
      ]
     },
     "execution_count": 19,
     "metadata": {},
     "output_type": "execute_result"
    }
   ],
   "source": [
    "# 4. Exponenciacion de cada elemento \n",
    "\n",
    "arreglo ** 0.5 \n",
    "\n",
    "\n",
    "\n",
    "\n"
   ]
  }
 ],
 "metadata": {
  "kernelspec": {
   "display_name": "maquina7",
   "language": "python",
   "name": "python3"
  },
  "language_info": {
   "codemirror_mode": {
    "name": "ipython",
    "version": 3
   },
   "file_extension": ".py",
   "mimetype": "text/x-python",
   "name": "python",
   "nbconvert_exporter": "python",
   "pygments_lexer": "ipython3",
   "version": "3.11.5"
  },
  "orig_nbformat": 4
 },
 "nbformat": 4,
 "nbformat_minor": 2
}
